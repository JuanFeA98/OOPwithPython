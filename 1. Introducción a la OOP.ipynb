{
 "cells": [
  {
   "cell_type": "markdown",
   "metadata": {},
   "source": [
    "## Introducción a la Programación Orientada a Objetos"
   ]
  },
  {
   "cell_type": "markdown",
   "metadata": {},
   "source": [
    "### Creando una clase"
   ]
  },
  {
   "cell_type": "markdown",
   "metadata": {
    "ExecuteTime": {
     "end_time": "2021-05-15T14:09:19.606841Z",
     "start_time": "2021-05-15T14:09:19.594770Z"
    }
   },
   "source": [
    "Las clases nos permiten abstraer los datos y sus operaciones asociadas de una manera generalizada."
   ]
  },
  {
   "cell_type": "code",
   "execution_count": 17,
   "metadata": {
    "ExecuteTime": {
     "end_time": "2021-05-15T14:12:59.996428Z",
     "start_time": "2021-05-15T14:12:59.987007Z"
    }
   },
   "outputs": [],
   "source": [
    "import numpy as np"
   ]
  },
  {
   "cell_type": "code",
   "execution_count": 41,
   "metadata": {
    "ExecuteTime": {
     "end_time": "2021-05-15T14:26:20.696193Z",
     "start_time": "2021-05-15T14:26:20.679638Z"
    }
   },
   "outputs": [],
   "source": [
    "class Point:\n",
    "    \n",
    "    # Las funciones dentro de las clases reciben el nombre de metodos\n",
    "    # El parametro self nos permite instanciar el metodo dentro de nuestra clase\n",
    "    \n",
    "    def coordenadas(self,x,y):\n",
    "        print(f'El punto esta ubicado en las coordenadas {x},{y}')\n",
    "        \n",
    "        \n",
    "    # Podemos almacenar datos dentro de nuestra clase\n",
    "    \n",
    "    def fijando_coordenadas(self, x, y):\n",
    "        self.x = x\n",
    "        self.y = y\n",
    "        \n",
    "    # Para referirnos a los argumentos de nuestra clase desde los metodos usamos self\n",
    "    \n",
    "    def origen(self, x, y):\n",
    "        return np.sqrt((self.x**2)+(self.y**2))"
   ]
  },
  {
   "cell_type": "markdown",
   "metadata": {},
   "source": [
    "#### Creamos nuestro objeto"
   ]
  },
  {
   "cell_type": "code",
   "execution_count": 42,
   "metadata": {
    "ExecuteTime": {
     "end_time": "2021-05-15T14:26:21.677125Z",
     "start_time": "2021-05-15T14:26:21.656467Z"
    }
   },
   "outputs": [],
   "source": [
    "puntoA = Point()"
   ]
  },
  {
   "cell_type": "markdown",
   "metadata": {},
   "source": [
    "#### Establecemos las coordenadas"
   ]
  },
  {
   "cell_type": "code",
   "execution_count": 43,
   "metadata": {
    "ExecuteTime": {
     "end_time": "2021-05-15T14:26:23.307538Z",
     "start_time": "2021-05-15T14:26:23.284890Z"
    },
    "scrolled": true
   },
   "outputs": [
    {
     "name": "stdout",
     "output_type": "stream",
     "text": [
      "El punto esta ubicado en las coordenadas 5,2\n"
     ]
    }
   ],
   "source": [
    "puntoA.coordenadas(5,2)"
   ]
  },
  {
   "cell_type": "markdown",
   "metadata": {
    "ExecuteTime": {
     "end_time": "2021-05-15T14:14:35.492148Z",
     "start_time": "2021-05-15T14:14:35.486171Z"
    }
   },
   "source": [
    "#### Instanciamos las coordenadas dentro de nuestro objeto"
   ]
  },
  {
   "cell_type": "code",
   "execution_count": 44,
   "metadata": {
    "ExecuteTime": {
     "end_time": "2021-05-15T14:26:27.709110Z",
     "start_time": "2021-05-15T14:26:27.692881Z"
    }
   },
   "outputs": [],
   "source": [
    "puntoA.fijando_coordenadas(5,4)"
   ]
  },
  {
   "cell_type": "code",
   "execution_count": 45,
   "metadata": {
    "ExecuteTime": {
     "end_time": "2021-05-15T14:26:34.868485Z",
     "start_time": "2021-05-15T14:26:34.854779Z"
    }
   },
   "outputs": [
    {
     "data": {
      "text/plain": [
       "(5, 4)"
      ]
     },
     "execution_count": 45,
     "metadata": {},
     "output_type": "execute_result"
    }
   ],
   "source": [
    "puntoA.x, puntoA.y"
   ]
  },
  {
   "cell_type": "markdown",
   "metadata": {},
   "source": [
    "#### Establecemos la distancia de los puntos al orige"
   ]
  },
  {
   "cell_type": "code",
   "execution_count": 46,
   "metadata": {
    "ExecuteTime": {
     "end_time": "2021-05-15T14:26:41.160637Z",
     "start_time": "2021-05-15T14:26:41.138432Z"
    }
   },
   "outputs": [
    {
     "name": "stdout",
     "output_type": "stream",
     "text": [
      "La distancia al origen es de 6.4 unidades.\n"
     ]
    }
   ],
   "source": [
    "print(f'La distancia al origen es de {round(puntoA.origen(5,4),2)} unidades.')"
   ]
  },
  {
   "cell_type": "markdown",
   "metadata": {},
   "source": [
    "### Usando el metodo constructor"
   ]
  },
  {
   "cell_type": "markdown",
   "metadata": {},
   "source": [
    "El metodo constructor nos permite establecer todos los atributos de nuestros objetos"
   ]
  },
  {
   "cell_type": "code",
   "execution_count": 35,
   "metadata": {
    "ExecuteTime": {
     "end_time": "2021-05-15T14:22:22.529490Z",
     "start_time": "2021-05-15T14:22:22.493636Z"
    }
   },
   "outputs": [],
   "source": [
    "class Punto:\n",
    "    \n",
    "    def __init__(self, x, y):\n",
    "        self.x = x\n",
    "        self.y = y"
   ]
  },
  {
   "cell_type": "code",
   "execution_count": 36,
   "metadata": {
    "ExecuteTime": {
     "end_time": "2021-05-15T14:25:38.985184Z",
     "start_time": "2021-05-15T14:25:38.966167Z"
    }
   },
   "outputs": [],
   "source": [
    "puntoB = Punto(1,3)"
   ]
  },
  {
   "cell_type": "code",
   "execution_count": 39,
   "metadata": {
    "ExecuteTime": {
     "end_time": "2021-05-15T14:26:01.374301Z",
     "start_time": "2021-05-15T14:26:01.356265Z"
    }
   },
   "outputs": [
    {
     "data": {
      "text/plain": [
       "(1, 3)"
      ]
     },
     "execution_count": 39,
     "metadata": {},
     "output_type": "execute_result"
    }
   ],
   "source": [
    "puntoB.x, puntoB.y"
   ]
  },
  {
   "cell_type": "code",
   "execution_count": null,
   "metadata": {},
   "outputs": [],
   "source": []
  },
  {
   "cell_type": "code",
   "execution_count": null,
   "metadata": {},
   "outputs": [],
   "source": []
  },
  {
   "cell_type": "code",
   "execution_count": null,
   "metadata": {},
   "outputs": [],
   "source": []
  }
 ],
 "metadata": {
  "kernelspec": {
   "display_name": "Python 3",
   "language": "python",
   "name": "python3"
  },
  "language_info": {
   "codemirror_mode": {
    "name": "ipython",
    "version": 3
   },
   "file_extension": ".py",
   "mimetype": "text/x-python",
   "name": "python",
   "nbconvert_exporter": "python",
   "pygments_lexer": "ipython3",
   "version": "3.8.5"
  },
  "toc": {
   "base_numbering": 1,
   "nav_menu": {},
   "number_sections": true,
   "sideBar": true,
   "skip_h1_title": false,
   "title_cell": "Table of Contents",
   "title_sidebar": "Contents",
   "toc_cell": false,
   "toc_position": {},
   "toc_section_display": true,
   "toc_window_display": false
  },
  "varInspector": {
   "cols": {
    "lenName": 16,
    "lenType": 16,
    "lenVar": 40
   },
   "kernels_config": {
    "python": {
     "delete_cmd_postfix": "",
     "delete_cmd_prefix": "del ",
     "library": "var_list.py",
     "varRefreshCmd": "print(var_dic_list())"
    },
    "r": {
     "delete_cmd_postfix": ") ",
     "delete_cmd_prefix": "rm(",
     "library": "var_list.r",
     "varRefreshCmd": "cat(var_dic_list()) "
    }
   },
   "types_to_exclude": [
    "module",
    "function",
    "builtin_function_or_method",
    "instance",
    "_Feature"
   ],
   "window_display": false
  }
 },
 "nbformat": 4,
 "nbformat_minor": 4
}
