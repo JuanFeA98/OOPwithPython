{
 "cells": [
  {
   "cell_type": "markdown",
   "metadata": {},
   "source": [
    "## Introducción a la Programación Orientada a Objetos"
   ]
  },
  {
   "cell_type": "markdown",
   "metadata": {},
   "source": [
    "### Creando una clase"
   ]
  },
  {
   "cell_type": "markdown",
   "metadata": {
    "ExecuteTime": {
     "end_time": "2021-05-15T14:09:19.606841Z",
     "start_time": "2021-05-15T14:09:19.594770Z"
    }
   },
   "source": [
    "Las clases nos permiten abstraer los datos y sus operaciones asociadas de una manera generalizada."
   ]
  },
  {
   "cell_type": "code",
   "execution_count": 1,
   "metadata": {
    "ExecuteTime": {
     "end_time": "2021-05-16T00:43:12.021557Z",
     "start_time": "2021-05-16T00:43:11.468662Z"
    }
   },
   "outputs": [],
   "source": [
    "import numpy as np"
   ]
  },
  {
   "cell_type": "code",
   "execution_count": 2,
   "metadata": {
    "ExecuteTime": {
     "end_time": "2021-05-16T00:43:15.138997Z",
     "start_time": "2021-05-16T00:43:15.112869Z"
    }
   },
   "outputs": [],
   "source": [
    "class Point:\n",
    "    \n",
    "    # Las funciones dentro de las clases reciben el nombre de metodos\n",
    "    # El parametro self nos permite instanciar el metodo dentro de nuestra clase\n",
    "    \n",
    "    def coordenadas(self,x,y):\n",
    "        print(f'El punto esta ubicado en las coordenadas {x},{y}')\n",
    "        \n",
    "        \n",
    "    # Podemos almacenar datos dentro de nuestra clase\n",
    "    \n",
    "    def fijando_coordenadas(self, x, y):\n",
    "        self.x = x\n",
    "        self.y = y\n",
    "        \n",
    "    # Para referirnos a los argumentos de nuestra clase desde los metodos usamos self\n",
    "    \n",
    "    def origen(self, x, y):\n",
    "        return np.sqrt((self.x**2)+(self.y**2))"
   ]
  },
  {
   "cell_type": "markdown",
   "metadata": {},
   "source": [
    "#### Creamos nuestro objeto"
   ]
  },
  {
   "cell_type": "code",
   "execution_count": 3,
   "metadata": {
    "ExecuteTime": {
     "end_time": "2021-05-16T00:43:17.498156Z",
     "start_time": "2021-05-16T00:43:17.489763Z"
    }
   },
   "outputs": [],
   "source": [
    "puntoA = Point()"
   ]
  },
  {
   "cell_type": "markdown",
   "metadata": {},
   "source": [
    "#### Establecemos las coordenadas"
   ]
  },
  {
   "cell_type": "code",
   "execution_count": 4,
   "metadata": {
    "ExecuteTime": {
     "end_time": "2021-05-16T00:43:19.437884Z",
     "start_time": "2021-05-16T00:43:19.424366Z"
    },
    "scrolled": true
   },
   "outputs": [
    {
     "name": "stdout",
     "output_type": "stream",
     "text": [
      "El punto esta ubicado en las coordenadas 5,2\n"
     ]
    }
   ],
   "source": [
    "puntoA.coordenadas(5,2)"
   ]
  },
  {
   "cell_type": "markdown",
   "metadata": {
    "ExecuteTime": {
     "end_time": "2021-05-15T14:14:35.492148Z",
     "start_time": "2021-05-15T14:14:35.486171Z"
    }
   },
   "source": [
    "#### Instanciamos las coordenadas dentro de nuestro objeto"
   ]
  },
  {
   "cell_type": "code",
   "execution_count": 5,
   "metadata": {
    "ExecuteTime": {
     "end_time": "2021-05-16T00:43:22.345508Z",
     "start_time": "2021-05-16T00:43:22.339768Z"
    }
   },
   "outputs": [],
   "source": [
    "puntoA.fijando_coordenadas(5,4)"
   ]
  },
  {
   "cell_type": "code",
   "execution_count": 6,
   "metadata": {
    "ExecuteTime": {
     "end_time": "2021-05-16T00:43:24.107699Z",
     "start_time": "2021-05-16T00:43:24.076301Z"
    }
   },
   "outputs": [
    {
     "data": {
      "text/plain": [
       "(5, 4)"
      ]
     },
     "execution_count": 6,
     "metadata": {},
     "output_type": "execute_result"
    }
   ],
   "source": [
    "puntoA.x, puntoA.y"
   ]
  },
  {
   "cell_type": "markdown",
   "metadata": {},
   "source": [
    "#### Establecemos la distancia de los puntos al orige"
   ]
  },
  {
   "cell_type": "code",
   "execution_count": 7,
   "metadata": {
    "ExecuteTime": {
     "end_time": "2021-05-16T00:43:26.303904Z",
     "start_time": "2021-05-16T00:43:26.282204Z"
    }
   },
   "outputs": [
    {
     "name": "stdout",
     "output_type": "stream",
     "text": [
      "La distancia al origen es de 6.4 unidades.\n"
     ]
    }
   ],
   "source": [
    "print(f'La distancia al origen es de {round(puntoA.origen(5,4),2)} unidades.')"
   ]
  },
  {
   "cell_type": "markdown",
   "metadata": {},
   "source": [
    "### Usando el metodo constructor"
   ]
  },
  {
   "cell_type": "markdown",
   "metadata": {},
   "source": [
    "El metodo constructor nos permite establecer todos los atributos de nuestros objetos"
   ]
  },
  {
   "cell_type": "code",
   "execution_count": 8,
   "metadata": {
    "ExecuteTime": {
     "end_time": "2021-05-16T00:43:31.324338Z",
     "start_time": "2021-05-16T00:43:31.312060Z"
    }
   },
   "outputs": [],
   "source": [
    "class Punto:\n",
    "    \n",
    "    def __init__(self, x, y):\n",
    "        self.x = x\n",
    "        self.y = y"
   ]
  },
  {
   "cell_type": "code",
   "execution_count": 9,
   "metadata": {
    "ExecuteTime": {
     "end_time": "2021-05-16T00:43:37.309004Z",
     "start_time": "2021-05-16T00:43:37.293485Z"
    }
   },
   "outputs": [],
   "source": [
    "puntoB = Punto(1,3)"
   ]
  },
  {
   "cell_type": "code",
   "execution_count": 10,
   "metadata": {
    "ExecuteTime": {
     "end_time": "2021-05-16T00:43:39.639213Z",
     "start_time": "2021-05-16T00:43:39.617729Z"
    }
   },
   "outputs": [
    {
     "data": {
      "text/plain": [
       "(1, 3)"
      ]
     },
     "execution_count": 10,
     "metadata": {},
     "output_type": "execute_result"
    }
   ],
   "source": [
    "puntoB.x, puntoB.y"
   ]
  },
  {
   "cell_type": "code",
   "execution_count": null,
   "metadata": {},
   "outputs": [],
   "source": []
  },
  {
   "cell_type": "code",
   "execution_count": null,
   "metadata": {},
   "outputs": [],
   "source": []
  },
  {
   "cell_type": "code",
   "execution_count": null,
   "metadata": {},
   "outputs": [],
   "source": []
  }
 ],
 "metadata": {
  "kernelspec": {
   "display_name": "Python 3",
   "language": "python",
   "name": "python3"
  },
  "language_info": {
   "codemirror_mode": {
    "name": "ipython",
    "version": 3
   },
   "file_extension": ".py",
   "mimetype": "text/x-python",
   "name": "python",
   "nbconvert_exporter": "python",
   "pygments_lexer": "ipython3",
   "version": "3.8.5"
  },
  "toc": {
   "base_numbering": 1,
   "nav_menu": {},
   "number_sections": true,
   "sideBar": true,
   "skip_h1_title": false,
   "title_cell": "Table of Contents",
   "title_sidebar": "Contents",
   "toc_cell": false,
   "toc_position": {},
   "toc_section_display": true,
   "toc_window_display": false
  },
  "varInspector": {
   "cols": {
    "lenName": 16,
    "lenType": 16,
    "lenVar": 40
   },
   "kernels_config": {
    "python": {
     "delete_cmd_postfix": "",
     "delete_cmd_prefix": "del ",
     "library": "var_list.py",
     "varRefreshCmd": "print(var_dic_list())"
    },
    "r": {
     "delete_cmd_postfix": ") ",
     "delete_cmd_prefix": "rm(",
     "library": "var_list.r",
     "varRefreshCmd": "cat(var_dic_list()) "
    }
   },
   "types_to_exclude": [
    "module",
    "function",
    "builtin_function_or_method",
    "instance",
    "_Feature"
   ],
   "window_display": false
  }
 },
 "nbformat": 4,
 "nbformat_minor": 4
}
